a=[]
with open("userInfo.csv","r") as f:
    a=f.readlines()

class node:
    def __init__(self, usere, passw,next=None):
        self.name=usere
        self.password=passw
        self.next=next

class hash:
    l=100
    a=12
    b=15
    tab={}
    for i in range(100):
        tab[i]=None
    def hashing(self,x):
        u=ord(x[0])
        v=ord(x[1])
        w=ord(x[2])
        w=u*self.a+v*self.b+w
        w=w%self.l
        return w
    def hash(self,u,p):
        y=self.hashing(u)
        self.tab[y]=node(u,p,self.tab[y])
    def search(self,user):
        y=self.hashing(user)
        temp=self.tab[y]
        while(temp!=None):
            if(temp.name==user):
                break
            temp=temp.next
        return temp
    def login(self):
        i=input("Please enter your user id: ")
        x=self.search(i)
        if(x==None):
            print("Name Not Found") 
            return 1
        else:
            j=input("Enter passsword: ")
            if(x.password==j):
                print("Login Successful") 
                return 1
            else: 
                print("Incorrect password") 
                return 1

b=hash()
for i in a:
    (x,y)=i.split(",")
    b.hash(x,y.replace("\n",""))
x=1
while(x!=-1):
    x=int(input("Select your option\n 1.login \n-1.exit: "))
    if(x==1):
        print("Login prompt opened")
        t=b.login()
        if(t==1):
            break
    else:
      print("Login cancelled")
      break